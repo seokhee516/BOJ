{
 "cells": [
  {
   "cell_type": "code",
   "execution_count": 14,
   "metadata": {},
   "outputs": [],
   "source": [
    "import sys\n",
    "N = int(sys.stdin.readline().strip())\n",
    "A = list(map(int, sys.stdin.readline().strip().split()))"
   ]
  },
  {
   "cell_type": "code",
   "execution_count": 4,
   "metadata": {},
   "outputs": [
    {
     "data": {
      "text/plain": [
       "[['W', 'B', 'W', 'B', 'W', 'B', 'W', 'B'],\n",
       " ['B', 'W', 'B', 'W', 'B', 'W', 'B', 'W'],\n",
       " ['W', 'B', 'W', 'B', 'W', 'B', 'W', 'B'],\n",
       " [],\n",
       " [],\n",
       " [],\n",
       " [],\n",
       " []]"
      ]
     },
     "execution_count": 4,
     "metadata": {},
     "output_type": "execute_result"
    }
   ],
   "source": [
    "case1 = []\n",
    "for _ in range(8):\n",
    "    case1.append(list(input().strip()))\n",
    "case1"
   ]
  },
  {
   "cell_type": "code",
   "execution_count": 2,
   "metadata": {},
   "outputs": [
    {
     "data": {
      "text/plain": [
       "['W',\n",
       " 'B',\n",
       " 'W',\n",
       " 'B',\n",
       " 'W',\n",
       " 'B',\n",
       " 'W',\n",
       " 'B',\n",
       " '\\n',\n",
       " 'B',\n",
       " 'W',\n",
       " 'B',\n",
       " 'W',\n",
       " 'B',\n",
       " 'W',\n",
       " 'B',\n",
       " 'W',\n",
       " '\\n',\n",
       " 'W',\n",
       " 'B',\n",
       " 'W',\n",
       " 'B',\n",
       " 'W',\n",
       " 'B',\n",
       " 'W',\n",
       " 'B',\n",
       " '\\n',\n",
       " 'B',\n",
       " 'W',\n",
       " 'B',\n",
       " 'W',\n",
       " 'B',\n",
       " 'W',\n",
       " 'B',\n",
       " 'W',\n",
       " '\\n',\n",
       " 'W',\n",
       " 'B',\n",
       " 'W',\n",
       " 'B',\n",
       " 'W',\n",
       " 'B',\n",
       " 'W',\n",
       " 'B',\n",
       " '\\n',\n",
       " 'B',\n",
       " 'W',\n",
       " 'B',\n",
       " 'W',\n",
       " 'B',\n",
       " 'W',\n",
       " 'B',\n",
       " 'W',\n",
       " '\\n',\n",
       " 'W',\n",
       " 'B',\n",
       " 'W',\n",
       " 'B',\n",
       " 'W',\n",
       " 'B',\n",
       " 'W',\n",
       " 'B',\n",
       " '\\n',\n",
       " 'B',\n",
       " 'W',\n",
       " 'B',\n",
       " 'W',\n",
       " 'B',\n",
       " 'W',\n",
       " 'B',\n",
       " 'W']"
      ]
     },
     "execution_count": 2,
     "metadata": {},
     "output_type": "execute_result"
    }
   ],
   "source": [
    "case1 = '''\n",
    "WBWBWBWB\n",
    "BWBWBWBW\n",
    "WBWBWBWB\n",
    "BWBWBWBW\n",
    "WBWBWBWB\n",
    "BWBWBWBW\n",
    "WBWBWBWB\n",
    "BWBWBWBW\n",
    "'''\n",
    "list(case1.strip())"
   ]
  },
  {
   "cell_type": "code",
   "execution_count": 6,
   "metadata": {},
   "outputs": [],
   "source": [
    "test_words = ['c=','c-','dz=','d-','lj','nj','s=','z=']"
   ]
  },
  {
   "cell_type": "code",
   "execution_count": 7,
   "metadata": {},
   "outputs": [],
   "source": [
    "input_data = 'ljes=njak'"
   ]
  },
  {
   "cell_type": "code",
   "execution_count": 10,
   "metadata": {},
   "outputs": [
    {
     "data": {
      "text/plain": [
       "'*e**ak'"
      ]
     },
     "execution_count": 10,
     "metadata": {},
     "output_type": "execute_result"
    }
   ],
   "source": [
    "for word in test_words:\n",
    "    input_data = input_data.replace(word, \"*\")\n",
    "input_data"
   ]
  },
  {
   "cell_type": "code",
   "execution_count": 3,
   "metadata": {},
   "outputs": [],
   "source": [
    "test = list(range(1,11))"
   ]
  },
  {
   "cell_type": "code",
   "execution_count": 24,
   "metadata": {},
   "outputs": [],
   "source": [
    "def d(n):\n",
    "    return n + sum(map(int,list(str(n))))"
   ]
  },
  {
   "cell_type": "code",
   "execution_count": 4,
   "metadata": {},
   "outputs": [
    {
     "data": {
      "text/plain": [
       "[1, 2, 3, 4, 5, 6, 7, 8, 9, 10]"
      ]
     },
     "execution_count": 4,
     "metadata": {},
     "output_type": "execute_result"
    }
   ],
   "source": [
    "test"
   ]
  },
  {
   "cell_type": "code",
   "execution_count": 10,
   "metadata": {},
   "outputs": [
    {
     "data": {
      "text/plain": [
       "['7', '5']"
      ]
     },
     "execution_count": 10,
     "metadata": {},
     "output_type": "execute_result"
    }
   ],
   "source": [
    "list('75')"
   ]
  },
  {
   "cell_type": "code",
   "execution_count": 29,
   "metadata": {},
   "outputs": [
    {
     "name": "stdout",
     "output_type": "stream",
     "text": [
      "6\n"
     ]
    }
   ],
   "source": [
    "print(d(3))"
   ]
  },
  {
   "cell_type": "code",
   "execution_count": 33,
   "metadata": {},
   "outputs": [
    {
     "name": "stdout",
     "output_type": "stream",
     "text": [
      "13\n"
     ]
    }
   ],
   "source": [
    "print(d(11))"
   ]
  },
  {
   "cell_type": "code",
   "execution_count": 32,
   "metadata": {},
   "outputs": [
    {
     "name": "stdout",
     "output_type": "stream",
     "text": [
      "2\n",
      "4\n",
      "6\n",
      "8\n",
      "10\n",
      "12\n",
      "14\n",
      "16\n",
      "18\n",
      "11\n"
     ]
    }
   ],
   "source": [
    "for i in range(1,11):\n",
    "    print(d(i))"
   ]
  },
  {
   "cell_type": "code",
   "execution_count": 14,
   "metadata": {},
   "outputs": [
    {
     "data": {
      "text/plain": [
       "75"
      ]
     },
     "execution_count": 14,
     "metadata": {},
     "output_type": "execute_result"
    }
   ],
   "source": [
    "import sys\n",
    "num = [0] * 10001\n",
    "for _ in range(N):\n",
    "    num[int(sys.stdin.readline())] += 1\n",
    "for i in range(10001):\n",
    "    if num[i] != 0:\n",
    "        for _ in range(num[i]):\n",
    "            print(i)"
   ]
  },
  {
   "cell_type": "code",
   "execution_count": 56,
   "metadata": {},
   "outputs": [],
   "source": [
    "sugar = 18"
   ]
  },
  {
   "cell_type": "code",
   "execution_count": 54,
   "metadata": {},
   "outputs": [],
   "source": [
    "bongi = -1\n",
    "for i in range(sugar // 5 + 1):\n",
    "    if (sugar-(i*5)) % 3 == 0:\n",
    "        sugar = sugar-(i*5)\n",
    "        bongi = i + (sugar//3)"
   ]
  },
  {
   "cell_type": "code",
   "execution_count": 55,
   "metadata": {},
   "outputs": [
    {
     "data": {
      "text/plain": [
       "-1"
      ]
     },
     "execution_count": 55,
     "metadata": {},
     "output_type": "execute_result"
    }
   ],
   "source": [
    "bongi"
   ]
  },
  {
   "cell_type": "code",
   "execution_count": 15,
   "metadata": {},
   "outputs": [],
   "source": [
    "import sys\n",
    "input_data = int(sys.stdin.readline())"
   ]
  },
  {
   "cell_type": "code",
   "execution_count": 17,
   "metadata": {},
   "outputs": [],
   "source": [
    "input_data = input()"
   ]
  },
  {
   "cell_type": "code",
   "execution_count": 18,
   "metadata": {},
   "outputs": [
    {
     "name": "stdout",
     "output_type": "stream",
     "text": [
      "4739715\n"
     ]
    }
   ],
   "source": [
    "\n",
    "ans = 0\n",
    "for i in range(len(input_data)):\n",
    "    ans += (ord(input_data[i])-96)*(31**i)\n",
    "print(ans)"
   ]
  },
  {
   "cell_type": "code",
   "execution_count": null,
   "metadata": {},
   "outputs": [],
   "source": [
    "from collections import deque"
   ]
  },
  {
   "cell_type": "code",
   "execution_count": 3,
   "metadata": {},
   "outputs": [
    {
     "data": {
      "text/plain": [
       "deque([1, 2, 3, 4, 5, 6, 7])"
      ]
     },
     "execution_count": 3,
     "metadata": {},
     "output_type": "execute_result"
    }
   ],
   "source": [
    "queue = deque()\n",
    "answer = []\n",
    "for i in range(1, 7+1):\n",
    "    queue.append(i)\n",
    "queue"
   ]
  },
  {
   "cell_type": "code",
   "execution_count": 4,
   "metadata": {},
   "outputs": [
    {
     "name": "stdout",
     "output_type": "stream",
     "text": [
      "0\n",
      "1\n"
     ]
    }
   ],
   "source": [
    "for i in range(2):\n",
    "    print(i)"
   ]
  },
  {
   "cell_type": "code",
   "execution_count": 5,
   "metadata": {},
   "outputs": [
    {
     "name": "stdout",
     "output_type": "stream",
     "text": [
      "deque([2, 3, 4, 5, 6, 7, 1])\n",
      "deque([3, 4, 5, 6, 7, 1, 2])\n",
      "[3]\n"
     ]
    }
   ],
   "source": [
    "for i in range(3-1):\n",
    "    queue.append(queue.popleft())\n",
    "    print(queue)\n",
    "answer.append(queue.popleft())\n",
    "print(answer)"
   ]
  },
  {
   "cell_type": "code",
   "execution_count": 6,
   "metadata": {},
   "outputs": [
    {
     "name": "stdout",
     "output_type": "stream",
     "text": [
      "deque([5, 6, 7, 1, 2, 4])\n",
      "deque([6, 7, 1, 2, 4, 5])\n",
      "[3, 6]\n"
     ]
    }
   ],
   "source": [
    "for i in range(3-1):\n",
    "    queue.append(queue.popleft())\n",
    "    print(queue)\n",
    "answer.append(queue.popleft())\n",
    "print(answer)"
   ]
  },
  {
   "cell_type": "code",
   "execution_count": 7,
   "metadata": {},
   "outputs": [
    {
     "name": "stdout",
     "output_type": "stream",
     "text": [
      "deque([1, 2, 4, 5, 7])\n",
      "deque([2, 4, 5, 7, 1])\n",
      "[3, 6, 2]\n"
     ]
    }
   ],
   "source": [
    "for i in range(3-1):\n",
    "    queue.append(queue.popleft())\n",
    "    print(queue)\n",
    "answer.append(queue.popleft())\n",
    "print(answer)"
   ]
  },
  {
   "cell_type": "code",
   "execution_count": 10,
   "metadata": {},
   "outputs": [
    {
     "name": "stdout",
     "output_type": "stream",
     "text": [
      "<3, 6, 2>\n"
     ]
    }
   ],
   "source": [
    "test = [3, 6, 2]\n",
    "print(\"<\"+\", \".join(map(str, test))+\">\")"
   ]
  },
  {
   "cell_type": "code",
   "execution_count": null,
   "metadata": {},
   "outputs": [],
   "source": []
  }
 ],
 "metadata": {
  "interpreter": {
   "hash": "a1fd8118a40da8fc7b936b678114b23209b949dc90b1ca0b8983b0012d34bb49"
  },
  "kernelspec": {
   "display_name": "Python 3.8.12 64-bit ('practice': conda)",
   "language": "python",
   "name": "python3"
  },
  "language_info": {
   "codemirror_mode": {
    "name": "ipython",
    "version": 3
   },
   "file_extension": ".py",
   "mimetype": "text/x-python",
   "name": "python",
   "nbconvert_exporter": "python",
   "pygments_lexer": "ipython3",
   "version": "3.8.12"
  },
  "orig_nbformat": 4
 },
 "nbformat": 4,
 "nbformat_minor": 2
}
