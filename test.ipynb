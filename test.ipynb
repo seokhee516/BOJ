{
 "cells": [
  {
   "cell_type": "code",
   "execution_count": 14,
   "metadata": {},
   "outputs": [],
   "source": [
    "import sys\n",
    "N = int(sys.stdin.readline().strip())\n",
    "A = list(map(int, sys.stdin.readline().strip().split()))"
   ]
  },
  {
   "cell_type": "code",
   "execution_count": 14,
   "metadata": {},
   "outputs": [
    {
     "data": {
      "text/plain": [
       "[[0, 0, 0, 0, 0], [0, 0, 0, 0, 0], [0, 0, 0, 0, 0]]"
      ]
     },
     "execution_count": 14,
     "metadata": {},
     "output_type": "execute_result"
    }
   ],
   "source": [
    "M = 5\n",
    "N = 3\n",
    "graph = [[0]*M for _ in range(N)]\n",
    "graph"
   ]
  },
  {
   "cell_type": "code",
   "execution_count": 15,
   "metadata": {},
   "outputs": [
    {
     "data": {
      "text/plain": [
       "[[0, 0, 0, 0, 0], [1, 1, 1, 1, 1], [0, 0, 0, 1, 0]]"
      ]
     },
     "execution_count": 15,
     "metadata": {},
     "output_type": "execute_result"
    }
   ],
   "source": [
    "K = 6\n",
    "for _ in range(K):\n",
    "    x, y = map(int, input().split())\n",
    "    graph[y-1][x-1] = 1\n",
    "graph"
   ]
  },
  {
   "cell_type": "code",
   "execution_count": 11,
   "metadata": {},
   "outputs": [
    {
     "data": {
      "text/plain": [
       "0"
      ]
     },
     "execution_count": 11,
     "metadata": {},
     "output_type": "execute_result"
    }
   ],
   "source": [
    "graph[4][8]"
   ]
  },
  {
   "cell_type": "code",
   "execution_count": 9,
   "metadata": {},
   "outputs": [
    {
     "data": {
      "text/plain": [
       "[0, 0, 0, 0, 1, 0, 0, 0, 0, 0]"
      ]
     },
     "execution_count": 9,
     "metadata": {},
     "output_type": "execute_result"
    }
   ],
   "source": [
    "graph[7]"
   ]
  },
  {
   "cell_type": "code",
   "execution_count": 35,
   "metadata": {},
   "outputs": [],
   "source": [
    "M = 4\n",
    "N = 5\n",
    "lst = [[0, 1, 1, 1],\n",
    "[0, 1, 0, 1],\n",
    "[0, 0, 0, 0],\n",
    "[0, 1, 1, 0],\n",
    "[0, 0, 0, 0]]"
   ]
  },
  {
   "cell_type": "code",
   "execution_count": 36,
   "metadata": {},
   "outputs": [
    {
     "data": {
      "text/plain": [
       "1"
      ]
     },
     "execution_count": 36,
     "metadata": {},
     "output_type": "execute_result"
    }
   ],
   "source": [
    "lst[0][1]"
   ]
  },
  {
   "cell_type": "code",
   "execution_count": 33,
   "metadata": {},
   "outputs": [],
   "source": [
    "from collections import deque\n",
    "queue = deque()"
   ]
  },
  {
   "cell_type": "code",
   "execution_count": 34,
   "metadata": {},
   "outputs": [],
   "source": [
    "cnt = 0\n",
    "for i in range(M):\n",
    "    for j in range(N):\n",
    "        if lst[j][i] == 1:\n",
    "            cnt += 1\n",
    "            queue.append([i,j])\n",
    "            while queue:\n",
    "                v = queue.popleft()\n",
    "                lst[v[1]][v[0]] = 0\n",
    "                for a in range(v[0], M):\n",
    "                    for b in range(v[1], N):\n",
    "                        if a+1<M and lst[b][a+1] == 1:\n",
    "                            queue.append([a+1, b])\n",
    "                            lst[b][a+1] = 0\n",
    "                        if a-1>=0 and lst[b][a-1] == 1:\n",
    "                            queue.append([a-1, b])\n",
    "                            lst[b][a-1] = 0\n",
    "                        if b-1>=0 and lst[b-1][a-1] == 1:\n",
    "                            queue.append([a, b-1])\n",
    "                            lst[b-1][a] = 0\n",
    "                        if b+1<N and lst[b+1][a] == 1:\n",
    "                            queue.append([a, b+1])\n",
    "                            lst[b+1][a] = 0       "
   ]
  },
  {
   "cell_type": "code",
   "execution_count": 30,
   "metadata": {},
   "outputs": [
    {
     "data": {
      "text/plain": [
       "1"
      ]
     },
     "execution_count": 30,
     "metadata": {},
     "output_type": "execute_result"
    }
   ],
   "source": [
    "cnt"
   ]
  },
  {
   "cell_type": "code",
   "execution_count": 31,
   "metadata": {},
   "outputs": [
    {
     "data": {
      "text/plain": [
       "[[0, 0, 0, 0], [0, 0, 0, 0], [0, 0, 0, 0], [0, 0, 0, 0], [0, 0, 0, 0]]"
      ]
     },
     "execution_count": 31,
     "metadata": {},
     "output_type": "execute_result"
    }
   ],
   "source": [
    "lst = [[0] * (M) for _ in range(N)]\n",
    "lst"
   ]
  },
  {
   "cell_type": "code",
   "execution_count": null,
   "metadata": {},
   "outputs": [],
   "source": []
  }
 ],
 "metadata": {
  "interpreter": {
   "hash": "a1fd8118a40da8fc7b936b678114b23209b949dc90b1ca0b8983b0012d34bb49"
  },
  "kernelspec": {
   "display_name": "Python 3.8.12 64-bit ('practice': conda)",
   "language": "python",
   "name": "python3"
  },
  "language_info": {
   "codemirror_mode": {
    "name": "ipython",
    "version": 3
   },
   "file_extension": ".py",
   "mimetype": "text/x-python",
   "name": "python",
   "nbconvert_exporter": "python",
   "pygments_lexer": "ipython3",
   "version": "3.8.12"
  },
  "orig_nbformat": 4
 },
 "nbformat": 4,
 "nbformat_minor": 2
}
