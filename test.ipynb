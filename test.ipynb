{
 "cells": [
  {
   "cell_type": "code",
   "execution_count": 14,
   "metadata": {},
   "outputs": [],
   "source": [
    "import sys\n",
    "N = int(sys.stdin.readline().strip())\n",
    "A = list(map(int, sys.stdin.readline().strip().split()))"
   ]
  },
  {
   "cell_type": "code",
   "execution_count": 49,
   "metadata": {},
   "outputs": [],
   "source": [
    "input_str = 'Half Moon tonight (At least it is better than no Moon at all].'\n",
    "input_str = list(input_str)"
   ]
  },
  {
   "cell_type": "code",
   "execution_count": 50,
   "metadata": {},
   "outputs": [
    {
     "name": "stdout",
     "output_type": "stream",
     "text": [
      "yes\n"
     ]
    }
   ],
   "source": [
    "stack = []\n",
    "for i in range(len(input_str)):\n",
    "    if input_str[i] =='(' or input_str[i] =='[':\n",
    "        stack.append(input_str[i])\n",
    "\n",
    "    if input_str[i] ==')':\n",
    "        if stack.pop() != '(':\n",
    "            break\n",
    "    if input_str[i] ==']':\n",
    "        if stack.pop() != '[':\n",
    "            break\n",
    "\n",
    "if len(stack) == 0:\n",
    "    print('yes')\n",
    "else:\n",
    "    print('no')"
   ]
  },
  {
   "cell_type": "code",
   "execution_count": null,
   "metadata": {},
   "outputs": [],
   "source": []
  }
 ],
 "metadata": {
  "interpreter": {
   "hash": "a1fd8118a40da8fc7b936b678114b23209b949dc90b1ca0b8983b0012d34bb49"
  },
  "kernelspec": {
   "display_name": "Python 3.8.12 64-bit ('practice': conda)",
   "language": "python",
   "name": "python3"
  },
  "language_info": {
   "codemirror_mode": {
    "name": "ipython",
    "version": 3
   },
   "file_extension": ".py",
   "mimetype": "text/x-python",
   "name": "python",
   "nbconvert_exporter": "python",
   "pygments_lexer": "ipython3",
   "version": "3.8.12"
  },
  "orig_nbformat": 4
 },
 "nbformat": 4,
 "nbformat_minor": 2
}
