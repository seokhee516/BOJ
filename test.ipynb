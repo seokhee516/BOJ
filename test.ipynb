{
 "cells": [
  {
   "cell_type": "code",
   "execution_count": 14,
   "metadata": {},
   "outputs": [],
   "source": [
    "import sys\n",
    "N = int(sys.stdin.readline().strip())\n",
    "A = list(map(int, sys.stdin.readline().strip().split()))"
   ]
  },
  {
   "cell_type": "code",
   "execution_count": 4,
   "metadata": {},
   "outputs": [
    {
     "data": {
      "text/plain": [
       "[['W', 'B', 'W', 'B', 'W', 'B', 'W', 'B'],\n",
       " ['B', 'W', 'B', 'W', 'B', 'W', 'B', 'W'],\n",
       " ['W', 'B', 'W', 'B', 'W', 'B', 'W', 'B'],\n",
       " [],\n",
       " [],\n",
       " [],\n",
       " [],\n",
       " []]"
      ]
     },
     "execution_count": 4,
     "metadata": {},
     "output_type": "execute_result"
    }
   ],
   "source": [
    "case1 = []\n",
    "for _ in range(8):\n",
    "    case1.append(list(input().strip()))\n",
    "case1"
   ]
  },
  {
   "cell_type": "code",
   "execution_count": 2,
   "metadata": {},
   "outputs": [
    {
     "data": {
      "text/plain": [
       "['W',\n",
       " 'B',\n",
       " 'W',\n",
       " 'B',\n",
       " 'W',\n",
       " 'B',\n",
       " 'W',\n",
       " 'B',\n",
       " '\\n',\n",
       " 'B',\n",
       " 'W',\n",
       " 'B',\n",
       " 'W',\n",
       " 'B',\n",
       " 'W',\n",
       " 'B',\n",
       " 'W',\n",
       " '\\n',\n",
       " 'W',\n",
       " 'B',\n",
       " 'W',\n",
       " 'B',\n",
       " 'W',\n",
       " 'B',\n",
       " 'W',\n",
       " 'B',\n",
       " '\\n',\n",
       " 'B',\n",
       " 'W',\n",
       " 'B',\n",
       " 'W',\n",
       " 'B',\n",
       " 'W',\n",
       " 'B',\n",
       " 'W',\n",
       " '\\n',\n",
       " 'W',\n",
       " 'B',\n",
       " 'W',\n",
       " 'B',\n",
       " 'W',\n",
       " 'B',\n",
       " 'W',\n",
       " 'B',\n",
       " '\\n',\n",
       " 'B',\n",
       " 'W',\n",
       " 'B',\n",
       " 'W',\n",
       " 'B',\n",
       " 'W',\n",
       " 'B',\n",
       " 'W',\n",
       " '\\n',\n",
       " 'W',\n",
       " 'B',\n",
       " 'W',\n",
       " 'B',\n",
       " 'W',\n",
       " 'B',\n",
       " 'W',\n",
       " 'B',\n",
       " '\\n',\n",
       " 'B',\n",
       " 'W',\n",
       " 'B',\n",
       " 'W',\n",
       " 'B',\n",
       " 'W',\n",
       " 'B',\n",
       " 'W']"
      ]
     },
     "execution_count": 2,
     "metadata": {},
     "output_type": "execute_result"
    }
   ],
   "source": [
    "case1 = '''\n",
    "WBWBWBWB\n",
    "BWBWBWBW\n",
    "WBWBWBWB\n",
    "BWBWBWBW\n",
    "WBWBWBWB\n",
    "BWBWBWBW\n",
    "WBWBWBWB\n",
    "BWBWBWBW\n",
    "'''\n",
    "list(case1.strip())"
   ]
  },
  {
   "cell_type": "code",
   "execution_count": 6,
   "metadata": {},
   "outputs": [],
   "source": [
    "test_words = ['c=','c-','dz=','d-','lj','nj','s=','z=']"
   ]
  },
  {
   "cell_type": "code",
   "execution_count": 7,
   "metadata": {},
   "outputs": [],
   "source": [
    "input_data = 'ljes=njak'"
   ]
  },
  {
   "cell_type": "code",
   "execution_count": 10,
   "metadata": {},
   "outputs": [
    {
     "data": {
      "text/plain": [
       "'*e**ak'"
      ]
     },
     "execution_count": 10,
     "metadata": {},
     "output_type": "execute_result"
    }
   ],
   "source": [
    "for word in test_words:\n",
    "    input_data = input_data.replace(word, \"*\")\n",
    "input_data"
   ]
  },
  {
   "cell_type": "code",
   "execution_count": null,
   "metadata": {},
   "outputs": [],
   "source": []
  }
 ],
 "metadata": {
  "interpreter": {
   "hash": "a1fd8118a40da8fc7b936b678114b23209b949dc90b1ca0b8983b0012d34bb49"
  },
  "kernelspec": {
   "display_name": "Python 3.8.12 64-bit ('practice': conda)",
   "language": "python",
   "name": "python3"
  },
  "language_info": {
   "codemirror_mode": {
    "name": "ipython",
    "version": 3
   },
   "file_extension": ".py",
   "mimetype": "text/x-python",
   "name": "python",
   "nbconvert_exporter": "python",
   "pygments_lexer": "ipython3",
   "version": "3.8.12"
  },
  "orig_nbformat": 4
 },
 "nbformat": 4,
 "nbformat_minor": 2
}
