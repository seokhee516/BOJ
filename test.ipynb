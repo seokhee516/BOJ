{
 "cells": [
  {
   "cell_type": "code",
   "execution_count": 14,
   "metadata": {},
   "outputs": [],
   "source": [
    "import sys\n",
    "N = int(sys.stdin.readline().strip())\n",
    "A = list(map(int, sys.stdin.readline().strip().split()))"
   ]
  },
  {
   "cell_type": "code",
   "execution_count": 4,
   "metadata": {},
   "outputs": [
    {
     "data": {
      "text/plain": [
       "[['W', 'B', 'W', 'B', 'W', 'B', 'W', 'B'],\n",
       " ['B', 'W', 'B', 'W', 'B', 'W', 'B', 'W'],\n",
       " ['W', 'B', 'W', 'B', 'W', 'B', 'W', 'B'],\n",
       " [],\n",
       " [],\n",
       " [],\n",
       " [],\n",
       " []]"
      ]
     },
     "execution_count": 4,
     "metadata": {},
     "output_type": "execute_result"
    }
   ],
   "source": [
    "case1 = []\n",
    "for _ in range(8):\n",
    "    case1.append(list(input().strip()))\n",
    "case1"
   ]
  },
  {
   "cell_type": "code",
   "execution_count": 2,
   "metadata": {},
   "outputs": [
    {
     "data": {
      "text/plain": [
       "['W',\n",
       " 'B',\n",
       " 'W',\n",
       " 'B',\n",
       " 'W',\n",
       " 'B',\n",
       " 'W',\n",
       " 'B',\n",
       " '\\n',\n",
       " 'B',\n",
       " 'W',\n",
       " 'B',\n",
       " 'W',\n",
       " 'B',\n",
       " 'W',\n",
       " 'B',\n",
       " 'W',\n",
       " '\\n',\n",
       " 'W',\n",
       " 'B',\n",
       " 'W',\n",
       " 'B',\n",
       " 'W',\n",
       " 'B',\n",
       " 'W',\n",
       " 'B',\n",
       " '\\n',\n",
       " 'B',\n",
       " 'W',\n",
       " 'B',\n",
       " 'W',\n",
       " 'B',\n",
       " 'W',\n",
       " 'B',\n",
       " 'W',\n",
       " '\\n',\n",
       " 'W',\n",
       " 'B',\n",
       " 'W',\n",
       " 'B',\n",
       " 'W',\n",
       " 'B',\n",
       " 'W',\n",
       " 'B',\n",
       " '\\n',\n",
       " 'B',\n",
       " 'W',\n",
       " 'B',\n",
       " 'W',\n",
       " 'B',\n",
       " 'W',\n",
       " 'B',\n",
       " 'W',\n",
       " '\\n',\n",
       " 'W',\n",
       " 'B',\n",
       " 'W',\n",
       " 'B',\n",
       " 'W',\n",
       " 'B',\n",
       " 'W',\n",
       " 'B',\n",
       " '\\n',\n",
       " 'B',\n",
       " 'W',\n",
       " 'B',\n",
       " 'W',\n",
       " 'B',\n",
       " 'W',\n",
       " 'B',\n",
       " 'W']"
      ]
     },
     "execution_count": 2,
     "metadata": {},
     "output_type": "execute_result"
    }
   ],
   "source": [
    "case1 = '''\n",
    "WBWBWBWB\n",
    "BWBWBWBW\n",
    "WBWBWBWB\n",
    "BWBWBWBW\n",
    "WBWBWBWB\n",
    "BWBWBWBW\n",
    "WBWBWBWB\n",
    "BWBWBWBW\n",
    "'''\n",
    "list(case1.strip())"
   ]
  },
  {
   "cell_type": "code",
   "execution_count": 1,
   "metadata": {},
   "outputs": [
    {
     "name": "stdout",
     "output_type": "stream",
     "text": [
      "6\n"
     ]
    }
   ],
   "source": [
    "def apt(n, k):\n",
    "    if n == 1:\n",
    "        return int(k*(k+1)/2)\n",
    "    answer = 0\n",
    "    for i in range(1, k+1):\n",
    "        answer += apt(n-1, i)\n",
    "\n",
    "    return int(answer)\n",
    "print(apt(1, 3))"
   ]
  }
 ],
 "metadata": {
  "interpreter": {
   "hash": "a1fd8118a40da8fc7b936b678114b23209b949dc90b1ca0b8983b0012d34bb49"
  },
  "kernelspec": {
   "display_name": "Python 3.8.12 64-bit ('practice': conda)",
   "language": "python",
   "name": "python3"
  },
  "language_info": {
   "codemirror_mode": {
    "name": "ipython",
    "version": 3
   },
   "file_extension": ".py",
   "mimetype": "text/x-python",
   "name": "python",
   "nbconvert_exporter": "python",
   "pygments_lexer": "ipython3",
   "version": "3.8.12"
  },
  "orig_nbformat": 4
 },
 "nbformat": 4,
 "nbformat_minor": 2
}
